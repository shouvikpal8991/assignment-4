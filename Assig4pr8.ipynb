{
  "nbformat": 4,
  "nbformat_minor": 0,
  "metadata": {
    "colab": {
      "provenance": [],
      "authorship_tag": "ABX9TyOsV63IrZOv6K5zD6W/ylUG",
      "include_colab_link": true
    },
    "kernelspec": {
      "name": "python3",
      "display_name": "Python 3"
    },
    "language_info": {
      "name": "python"
    }
  },
  "cells": [
    {
      "cell_type": "markdown",
      "metadata": {
        "id": "view-in-github",
        "colab_type": "text"
      },
      "source": [
        "<a href=\"https://colab.research.google.com/github/shouvikpal8991/assignment-4/blob/main/Assig4pr8.ipynb\" target=\"_parent\"><img src=\"https://colab.research.google.com/assets/colab-badge.svg\" alt=\"Open In Colab\"/></a>"
      ]
    },
    {
      "cell_type": "code",
      "execution_count": 3,
      "metadata": {
        "colab": {
          "base_uri": "https://localhost:8080/"
        },
        "id": "fjY297qwcWLa",
        "outputId": "686ceb93-9a71-489e-a9bc-7b00c5663a48"
      },
      "outputs": [
        {
          "output_type": "stream",
          "name": "stdout",
          "text": [
            "Estimated area of the unit circle: 3.144984\n",
            "Estimated volume of the 10-dimensional unit sphere: 2.568192\n"
          ]
        }
      ],
      "source": [
        "import numpy as np\n",
        "\n",
        "# Function to estimate the area of a unit circle using Monte Carlo integration\n",
        "def monte_carlo_circle(num_samples):\n",
        "    count_inside = 0\n",
        "    for _ in range(num_samples):\n",
        "        x, y = np.random.uniform(-1, 1), np.random.uniform(-1, 1)\n",
        "        if x**2 + y**2 <= 1:\n",
        "            count_inside += 1\n",
        "    area_estimate = (count_inside / num_samples) * 4\n",
        "    return area_estimate\n",
        "\n",
        "# Function to estimate the volume of a 10-dimensional unit sphere using Monte Carlo integration\n",
        "def monte_carlo_hypersphere(num_samples, dimensions=10):\n",
        "    count_inside = 0\n",
        "    for _ in range(num_samples):\n",
        "        point = np.random.uniform(-1, 1, dimensions)\n",
        "        if np.sum(point**2) <= 1:\n",
        "            count_inside += 1\n",
        "    volume_estimate = (count_inside / num_samples) * (2**dimensions)\n",
        "    return volume_estimate\n",
        "\n",
        "# Number of samples for Monte Carlo integration\n",
        "num_samples = 1000000\n",
        "\n",
        "# Estimate the area of the unit circle\n",
        "circle_area = monte_carlo_circle(num_samples)\n",
        "print(f\"Estimated area of the unit circle: {circle_area}\")\n",
        "\n",
        "# Estimate the volume of the 10-dimensional unit sphere\n",
        "hypersphere_volume = monte_carlo_hypersphere(num_samples)\n",
        "print(f\"Estimated volume of the 10-dimensional unit sphere: {hypersphere_volume}\")\n"
      ]
    }
  ]
}